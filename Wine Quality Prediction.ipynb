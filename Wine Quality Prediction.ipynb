{
 "cells": [
  {
   "cell_type": "markdown",
   "id": "73a402e4",
   "metadata": {},
   "source": [
    "# Data Science Internship - Code Clause"
   ]
  },
  {
   "cell_type": "markdown",
   "id": "4188e784",
   "metadata": {},
   "source": [
    "### Project 2 : Wine Quality Prediction"
   ]
  },
  {
   "cell_type": "markdown",
   "id": "9c35b5c6",
   "metadata": {},
   "source": [
    "### Wine Quality Prediction Dataset From Kaggle"
   ]
  },
  {
   "cell_type": "markdown",
   "id": "cac91d3a",
   "metadata": {},
   "source": [
    "#### By Ujjwal Aggarwal"
   ]
  },
  {
   "cell_type": "markdown",
   "id": "ad8b5222",
   "metadata": {},
   "source": [
    "### Importing Libraries"
   ]
  },
  {
   "cell_type": "code",
   "execution_count": 1,
   "id": "e17fbd7b",
   "metadata": {},
   "outputs": [],
   "source": [
    "import numpy as np\n",
    "import pandas as pd\n",
    "import matplotlib.pyplot as plt\n",
    "import seaborn as sns"
   ]
  },
  {
   "cell_type": "markdown",
   "id": "5108790f",
   "metadata": {},
   "source": [
    "### Initialising Training Dataset"
   ]
  },
  {
   "cell_type": "code",
   "execution_count": 2,
   "id": "7a3ffcbe",
   "metadata": {},
   "outputs": [],
   "source": [
    "df = pd.read_csv('C:/Users/ujjwa/Desktop/WineQT.csv')"
   ]
  },
  {
   "cell_type": "code",
   "execution_count": 3,
   "id": "121e8159",
   "metadata": {},
   "outputs": [
    {
     "data": {
      "text/html": [
       "<div>\n",
       "<style scoped>\n",
       "    .dataframe tbody tr th:only-of-type {\n",
       "        vertical-align: middle;\n",
       "    }\n",
       "\n",
       "    .dataframe tbody tr th {\n",
       "        vertical-align: top;\n",
       "    }\n",
       "\n",
       "    .dataframe thead th {\n",
       "        text-align: right;\n",
       "    }\n",
       "</style>\n",
       "<table border=\"1\" class=\"dataframe\">\n",
       "  <thead>\n",
       "    <tr style=\"text-align: right;\">\n",
       "      <th></th>\n",
       "      <th>fixed acidity</th>\n",
       "      <th>volatile acidity</th>\n",
       "      <th>citric acid</th>\n",
       "      <th>residual sugar</th>\n",
       "      <th>chlorides</th>\n",
       "      <th>free sulfur dioxide</th>\n",
       "      <th>total sulfur dioxide</th>\n",
       "      <th>density</th>\n",
       "      <th>pH</th>\n",
       "      <th>sulphates</th>\n",
       "      <th>alcohol</th>\n",
       "      <th>quality</th>\n",
       "      <th>Id</th>\n",
       "    </tr>\n",
       "  </thead>\n",
       "  <tbody>\n",
       "    <tr>\n",
       "      <th>0</th>\n",
       "      <td>7.4</td>\n",
       "      <td>0.70</td>\n",
       "      <td>0.00</td>\n",
       "      <td>1.9</td>\n",
       "      <td>0.076</td>\n",
       "      <td>11.0</td>\n",
       "      <td>34.0</td>\n",
       "      <td>0.9978</td>\n",
       "      <td>3.51</td>\n",
       "      <td>0.56</td>\n",
       "      <td>9.4</td>\n",
       "      <td>5</td>\n",
       "      <td>0</td>\n",
       "    </tr>\n",
       "    <tr>\n",
       "      <th>1</th>\n",
       "      <td>7.8</td>\n",
       "      <td>0.88</td>\n",
       "      <td>0.00</td>\n",
       "      <td>2.6</td>\n",
       "      <td>0.098</td>\n",
       "      <td>25.0</td>\n",
       "      <td>67.0</td>\n",
       "      <td>0.9968</td>\n",
       "      <td>3.20</td>\n",
       "      <td>0.68</td>\n",
       "      <td>9.8</td>\n",
       "      <td>5</td>\n",
       "      <td>1</td>\n",
       "    </tr>\n",
       "    <tr>\n",
       "      <th>2</th>\n",
       "      <td>7.8</td>\n",
       "      <td>0.76</td>\n",
       "      <td>0.04</td>\n",
       "      <td>2.3</td>\n",
       "      <td>0.092</td>\n",
       "      <td>15.0</td>\n",
       "      <td>54.0</td>\n",
       "      <td>0.9970</td>\n",
       "      <td>3.26</td>\n",
       "      <td>0.65</td>\n",
       "      <td>9.8</td>\n",
       "      <td>5</td>\n",
       "      <td>2</td>\n",
       "    </tr>\n",
       "    <tr>\n",
       "      <th>3</th>\n",
       "      <td>11.2</td>\n",
       "      <td>0.28</td>\n",
       "      <td>0.56</td>\n",
       "      <td>1.9</td>\n",
       "      <td>0.075</td>\n",
       "      <td>17.0</td>\n",
       "      <td>60.0</td>\n",
       "      <td>0.9980</td>\n",
       "      <td>3.16</td>\n",
       "      <td>0.58</td>\n",
       "      <td>9.8</td>\n",
       "      <td>6</td>\n",
       "      <td>3</td>\n",
       "    </tr>\n",
       "    <tr>\n",
       "      <th>4</th>\n",
       "      <td>7.4</td>\n",
       "      <td>0.70</td>\n",
       "      <td>0.00</td>\n",
       "      <td>1.9</td>\n",
       "      <td>0.076</td>\n",
       "      <td>11.0</td>\n",
       "      <td>34.0</td>\n",
       "      <td>0.9978</td>\n",
       "      <td>3.51</td>\n",
       "      <td>0.56</td>\n",
       "      <td>9.4</td>\n",
       "      <td>5</td>\n",
       "      <td>4</td>\n",
       "    </tr>\n",
       "  </tbody>\n",
       "</table>\n",
       "</div>"
      ],
      "text/plain": [
       "   fixed acidity  volatile acidity  citric acid  residual sugar  chlorides   \n",
       "0            7.4              0.70         0.00             1.9      0.076  \\\n",
       "1            7.8              0.88         0.00             2.6      0.098   \n",
       "2            7.8              0.76         0.04             2.3      0.092   \n",
       "3           11.2              0.28         0.56             1.9      0.075   \n",
       "4            7.4              0.70         0.00             1.9      0.076   \n",
       "\n",
       "   free sulfur dioxide  total sulfur dioxide  density    pH  sulphates   \n",
       "0                 11.0                  34.0   0.9978  3.51       0.56  \\\n",
       "1                 25.0                  67.0   0.9968  3.20       0.68   \n",
       "2                 15.0                  54.0   0.9970  3.26       0.65   \n",
       "3                 17.0                  60.0   0.9980  3.16       0.58   \n",
       "4                 11.0                  34.0   0.9978  3.51       0.56   \n",
       "\n",
       "   alcohol  quality  Id  \n",
       "0      9.4        5   0  \n",
       "1      9.8        5   1  \n",
       "2      9.8        5   2  \n",
       "3      9.8        6   3  \n",
       "4      9.4        5   4  "
      ]
     },
     "execution_count": 3,
     "metadata": {},
     "output_type": "execute_result"
    }
   ],
   "source": [
    "# View the first 5 rows of the dataset\n",
    "df.head()"
   ]
  },
  {
   "cell_type": "code",
   "execution_count": 4,
   "id": "bf319039",
   "metadata": {},
   "outputs": [
    {
     "data": {
      "text/html": [
       "<div>\n",
       "<style scoped>\n",
       "    .dataframe tbody tr th:only-of-type {\n",
       "        vertical-align: middle;\n",
       "    }\n",
       "\n",
       "    .dataframe tbody tr th {\n",
       "        vertical-align: top;\n",
       "    }\n",
       "\n",
       "    .dataframe thead th {\n",
       "        text-align: right;\n",
       "    }\n",
       "</style>\n",
       "<table border=\"1\" class=\"dataframe\">\n",
       "  <thead>\n",
       "    <tr style=\"text-align: right;\">\n",
       "      <th></th>\n",
       "      <th>fixed acidity</th>\n",
       "      <th>volatile acidity</th>\n",
       "      <th>citric acid</th>\n",
       "      <th>residual sugar</th>\n",
       "      <th>chlorides</th>\n",
       "      <th>free sulfur dioxide</th>\n",
       "      <th>total sulfur dioxide</th>\n",
       "      <th>density</th>\n",
       "      <th>pH</th>\n",
       "      <th>sulphates</th>\n",
       "      <th>alcohol</th>\n",
       "      <th>quality</th>\n",
       "      <th>Id</th>\n",
       "    </tr>\n",
       "  </thead>\n",
       "  <tbody>\n",
       "    <tr>\n",
       "      <th>1138</th>\n",
       "      <td>6.3</td>\n",
       "      <td>0.510</td>\n",
       "      <td>0.13</td>\n",
       "      <td>2.3</td>\n",
       "      <td>0.076</td>\n",
       "      <td>29.0</td>\n",
       "      <td>40.0</td>\n",
       "      <td>0.99574</td>\n",
       "      <td>3.42</td>\n",
       "      <td>0.75</td>\n",
       "      <td>11.0</td>\n",
       "      <td>6</td>\n",
       "      <td>1592</td>\n",
       "    </tr>\n",
       "    <tr>\n",
       "      <th>1139</th>\n",
       "      <td>6.8</td>\n",
       "      <td>0.620</td>\n",
       "      <td>0.08</td>\n",
       "      <td>1.9</td>\n",
       "      <td>0.068</td>\n",
       "      <td>28.0</td>\n",
       "      <td>38.0</td>\n",
       "      <td>0.99651</td>\n",
       "      <td>3.42</td>\n",
       "      <td>0.82</td>\n",
       "      <td>9.5</td>\n",
       "      <td>6</td>\n",
       "      <td>1593</td>\n",
       "    </tr>\n",
       "    <tr>\n",
       "      <th>1140</th>\n",
       "      <td>6.2</td>\n",
       "      <td>0.600</td>\n",
       "      <td>0.08</td>\n",
       "      <td>2.0</td>\n",
       "      <td>0.090</td>\n",
       "      <td>32.0</td>\n",
       "      <td>44.0</td>\n",
       "      <td>0.99490</td>\n",
       "      <td>3.45</td>\n",
       "      <td>0.58</td>\n",
       "      <td>10.5</td>\n",
       "      <td>5</td>\n",
       "      <td>1594</td>\n",
       "    </tr>\n",
       "    <tr>\n",
       "      <th>1141</th>\n",
       "      <td>5.9</td>\n",
       "      <td>0.550</td>\n",
       "      <td>0.10</td>\n",
       "      <td>2.2</td>\n",
       "      <td>0.062</td>\n",
       "      <td>39.0</td>\n",
       "      <td>51.0</td>\n",
       "      <td>0.99512</td>\n",
       "      <td>3.52</td>\n",
       "      <td>0.76</td>\n",
       "      <td>11.2</td>\n",
       "      <td>6</td>\n",
       "      <td>1595</td>\n",
       "    </tr>\n",
       "    <tr>\n",
       "      <th>1142</th>\n",
       "      <td>5.9</td>\n",
       "      <td>0.645</td>\n",
       "      <td>0.12</td>\n",
       "      <td>2.0</td>\n",
       "      <td>0.075</td>\n",
       "      <td>32.0</td>\n",
       "      <td>44.0</td>\n",
       "      <td>0.99547</td>\n",
       "      <td>3.57</td>\n",
       "      <td>0.71</td>\n",
       "      <td>10.2</td>\n",
       "      <td>5</td>\n",
       "      <td>1597</td>\n",
       "    </tr>\n",
       "  </tbody>\n",
       "</table>\n",
       "</div>"
      ],
      "text/plain": [
       "      fixed acidity  volatile acidity  citric acid  residual sugar  chlorides   \n",
       "1138            6.3             0.510         0.13             2.3      0.076  \\\n",
       "1139            6.8             0.620         0.08             1.9      0.068   \n",
       "1140            6.2             0.600         0.08             2.0      0.090   \n",
       "1141            5.9             0.550         0.10             2.2      0.062   \n",
       "1142            5.9             0.645         0.12             2.0      0.075   \n",
       "\n",
       "      free sulfur dioxide  total sulfur dioxide  density    pH  sulphates   \n",
       "1138                 29.0                  40.0  0.99574  3.42       0.75  \\\n",
       "1139                 28.0                  38.0  0.99651  3.42       0.82   \n",
       "1140                 32.0                  44.0  0.99490  3.45       0.58   \n",
       "1141                 39.0                  51.0  0.99512  3.52       0.76   \n",
       "1142                 32.0                  44.0  0.99547  3.57       0.71   \n",
       "\n",
       "      alcohol  quality    Id  \n",
       "1138     11.0        6  1592  \n",
       "1139      9.5        6  1593  \n",
       "1140     10.5        5  1594  \n",
       "1141     11.2        6  1595  \n",
       "1142     10.2        5  1597  "
      ]
     },
     "execution_count": 4,
     "metadata": {},
     "output_type": "execute_result"
    }
   ],
   "source": [
    "# View the last 5 rows of the dataset\n",
    "df.tail()"
   ]
  },
  {
   "cell_type": "code",
   "execution_count": 5,
   "id": "2abf057f",
   "metadata": {},
   "outputs": [
    {
     "data": {
      "text/html": [
       "<div>\n",
       "<style scoped>\n",
       "    .dataframe tbody tr th:only-of-type {\n",
       "        vertical-align: middle;\n",
       "    }\n",
       "\n",
       "    .dataframe tbody tr th {\n",
       "        vertical-align: top;\n",
       "    }\n",
       "\n",
       "    .dataframe thead th {\n",
       "        text-align: right;\n",
       "    }\n",
       "</style>\n",
       "<table border=\"1\" class=\"dataframe\">\n",
       "  <thead>\n",
       "    <tr style=\"text-align: right;\">\n",
       "      <th></th>\n",
       "      <th>fixed acidity</th>\n",
       "      <th>volatile acidity</th>\n",
       "      <th>citric acid</th>\n",
       "      <th>residual sugar</th>\n",
       "      <th>chlorides</th>\n",
       "      <th>free sulfur dioxide</th>\n",
       "      <th>total sulfur dioxide</th>\n",
       "      <th>density</th>\n",
       "      <th>pH</th>\n",
       "      <th>sulphates</th>\n",
       "      <th>alcohol</th>\n",
       "      <th>quality</th>\n",
       "      <th>Id</th>\n",
       "    </tr>\n",
       "  </thead>\n",
       "  <tbody>\n",
       "    <tr>\n",
       "      <th>231</th>\n",
       "      <td>10.0</td>\n",
       "      <td>0.49</td>\n",
       "      <td>0.20</td>\n",
       "      <td>11.0</td>\n",
       "      <td>0.071</td>\n",
       "      <td>13.0</td>\n",
       "      <td>50.0</td>\n",
       "      <td>1.00150</td>\n",
       "      <td>3.16</td>\n",
       "      <td>0.69</td>\n",
       "      <td>9.2</td>\n",
       "      <td>6</td>\n",
       "      <td>325</td>\n",
       "    </tr>\n",
       "    <tr>\n",
       "      <th>615</th>\n",
       "      <td>7.2</td>\n",
       "      <td>0.62</td>\n",
       "      <td>0.06</td>\n",
       "      <td>2.5</td>\n",
       "      <td>0.078</td>\n",
       "      <td>17.0</td>\n",
       "      <td>84.0</td>\n",
       "      <td>0.99746</td>\n",
       "      <td>3.51</td>\n",
       "      <td>0.53</td>\n",
       "      <td>9.7</td>\n",
       "      <td>5</td>\n",
       "      <td>863</td>\n",
       "    </tr>\n",
       "    <tr>\n",
       "      <th>635</th>\n",
       "      <td>8.3</td>\n",
       "      <td>0.31</td>\n",
       "      <td>0.39</td>\n",
       "      <td>2.4</td>\n",
       "      <td>0.078</td>\n",
       "      <td>17.0</td>\n",
       "      <td>43.0</td>\n",
       "      <td>0.99444</td>\n",
       "      <td>3.31</td>\n",
       "      <td>0.77</td>\n",
       "      <td>12.5</td>\n",
       "      <td>7</td>\n",
       "      <td>898</td>\n",
       "    </tr>\n",
       "    <tr>\n",
       "      <th>654</th>\n",
       "      <td>8.6</td>\n",
       "      <td>0.22</td>\n",
       "      <td>0.36</td>\n",
       "      <td>1.9</td>\n",
       "      <td>0.064</td>\n",
       "      <td>53.0</td>\n",
       "      <td>77.0</td>\n",
       "      <td>0.99604</td>\n",
       "      <td>3.47</td>\n",
       "      <td>0.87</td>\n",
       "      <td>11.0</td>\n",
       "      <td>7</td>\n",
       "      <td>925</td>\n",
       "    </tr>\n",
       "    <tr>\n",
       "      <th>611</th>\n",
       "      <td>8.2</td>\n",
       "      <td>0.26</td>\n",
       "      <td>0.34</td>\n",
       "      <td>2.5</td>\n",
       "      <td>0.073</td>\n",
       "      <td>16.0</td>\n",
       "      <td>47.0</td>\n",
       "      <td>0.99594</td>\n",
       "      <td>3.40</td>\n",
       "      <td>0.78</td>\n",
       "      <td>11.3</td>\n",
       "      <td>7</td>\n",
       "      <td>857</td>\n",
       "    </tr>\n",
       "  </tbody>\n",
       "</table>\n",
       "</div>"
      ],
      "text/plain": [
       "     fixed acidity  volatile acidity  citric acid  residual sugar  chlorides   \n",
       "231           10.0              0.49         0.20            11.0      0.071  \\\n",
       "615            7.2              0.62         0.06             2.5      0.078   \n",
       "635            8.3              0.31         0.39             2.4      0.078   \n",
       "654            8.6              0.22         0.36             1.9      0.064   \n",
       "611            8.2              0.26         0.34             2.5      0.073   \n",
       "\n",
       "     free sulfur dioxide  total sulfur dioxide  density    pH  sulphates   \n",
       "231                 13.0                  50.0  1.00150  3.16       0.69  \\\n",
       "615                 17.0                  84.0  0.99746  3.51       0.53   \n",
       "635                 17.0                  43.0  0.99444  3.31       0.77   \n",
       "654                 53.0                  77.0  0.99604  3.47       0.87   \n",
       "611                 16.0                  47.0  0.99594  3.40       0.78   \n",
       "\n",
       "     alcohol  quality   Id  \n",
       "231      9.2        6  325  \n",
       "615      9.7        5  863  \n",
       "635     12.5        7  898  \n",
       "654     11.0        7  925  \n",
       "611     11.3        7  857  "
      ]
     },
     "execution_count": 5,
     "metadata": {},
     "output_type": "execute_result"
    }
   ],
   "source": [
    "# View the random 5 rows of the dataset\n",
    "df.sample(5)"
   ]
  },
  {
   "cell_type": "markdown",
   "id": "0d7b003c",
   "metadata": {},
   "source": [
    "### Shape of the dataset"
   ]
  },
  {
   "cell_type": "code",
   "execution_count": 6,
   "id": "c5443859",
   "metadata": {},
   "outputs": [
    {
     "data": {
      "text/plain": [
       "(1143, 13)"
      ]
     },
     "execution_count": 6,
     "metadata": {},
     "output_type": "execute_result"
    }
   ],
   "source": [
    "# View the number of rows and columns of the dataset\n",
    "df.shape"
   ]
  },
  {
   "cell_type": "markdown",
   "id": "93542710",
   "metadata": {},
   "source": [
    "### Information of the dataset"
   ]
  },
  {
   "cell_type": "code",
   "execution_count": 7,
   "id": "d50963cd",
   "metadata": {},
   "outputs": [
    {
     "name": "stdout",
     "output_type": "stream",
     "text": [
      "<class 'pandas.core.frame.DataFrame'>\n",
      "RangeIndex: 1143 entries, 0 to 1142\n",
      "Data columns (total 13 columns):\n",
      " #   Column                Non-Null Count  Dtype  \n",
      "---  ------                --------------  -----  \n",
      " 0   fixed acidity         1143 non-null   float64\n",
      " 1   volatile acidity      1143 non-null   float64\n",
      " 2   citric acid           1143 non-null   float64\n",
      " 3   residual sugar        1143 non-null   float64\n",
      " 4   chlorides             1143 non-null   float64\n",
      " 5   free sulfur dioxide   1143 non-null   float64\n",
      " 6   total sulfur dioxide  1143 non-null   float64\n",
      " 7   density               1143 non-null   float64\n",
      " 8   pH                    1143 non-null   float64\n",
      " 9   sulphates             1143 non-null   float64\n",
      " 10  alcohol               1143 non-null   float64\n",
      " 11  quality               1143 non-null   int64  \n",
      " 12  Id                    1143 non-null   int64  \n",
      "dtypes: float64(11), int64(2)\n",
      "memory usage: 116.2 KB\n"
     ]
    }
   ],
   "source": [
    "#info() is used to check the information of data and datatypes\n",
    "df.info()"
   ]
  },
  {
   "cell_type": "code",
   "execution_count": 8,
   "id": "9643a430",
   "metadata": {},
   "outputs": [
    {
     "data": {
      "text/html": [
       "<div>\n",
       "<style scoped>\n",
       "    .dataframe tbody tr th:only-of-type {\n",
       "        vertical-align: middle;\n",
       "    }\n",
       "\n",
       "    .dataframe tbody tr th {\n",
       "        vertical-align: top;\n",
       "    }\n",
       "\n",
       "    .dataframe thead th {\n",
       "        text-align: right;\n",
       "    }\n",
       "</style>\n",
       "<table border=\"1\" class=\"dataframe\">\n",
       "  <thead>\n",
       "    <tr style=\"text-align: right;\">\n",
       "      <th></th>\n",
       "      <th>fixed acidity</th>\n",
       "      <th>volatile acidity</th>\n",
       "      <th>citric acid</th>\n",
       "      <th>residual sugar</th>\n",
       "      <th>chlorides</th>\n",
       "      <th>free sulfur dioxide</th>\n",
       "      <th>total sulfur dioxide</th>\n",
       "      <th>density</th>\n",
       "      <th>pH</th>\n",
       "      <th>sulphates</th>\n",
       "      <th>alcohol</th>\n",
       "      <th>quality</th>\n",
       "      <th>Id</th>\n",
       "    </tr>\n",
       "  </thead>\n",
       "  <tbody>\n",
       "    <tr>\n",
       "      <th>count</th>\n",
       "      <td>1143.000000</td>\n",
       "      <td>1143.000000</td>\n",
       "      <td>1143.000000</td>\n",
       "      <td>1143.000000</td>\n",
       "      <td>1143.000000</td>\n",
       "      <td>1143.000000</td>\n",
       "      <td>1143.000000</td>\n",
       "      <td>1143.000000</td>\n",
       "      <td>1143.000000</td>\n",
       "      <td>1143.000000</td>\n",
       "      <td>1143.000000</td>\n",
       "      <td>1143.000000</td>\n",
       "      <td>1143.000000</td>\n",
       "    </tr>\n",
       "    <tr>\n",
       "      <th>mean</th>\n",
       "      <td>8.311111</td>\n",
       "      <td>0.531339</td>\n",
       "      <td>0.268364</td>\n",
       "      <td>2.532152</td>\n",
       "      <td>0.086933</td>\n",
       "      <td>15.615486</td>\n",
       "      <td>45.914698</td>\n",
       "      <td>0.996730</td>\n",
       "      <td>3.311015</td>\n",
       "      <td>0.657708</td>\n",
       "      <td>10.442111</td>\n",
       "      <td>5.657043</td>\n",
       "      <td>804.969379</td>\n",
       "    </tr>\n",
       "    <tr>\n",
       "      <th>std</th>\n",
       "      <td>1.747595</td>\n",
       "      <td>0.179633</td>\n",
       "      <td>0.196686</td>\n",
       "      <td>1.355917</td>\n",
       "      <td>0.047267</td>\n",
       "      <td>10.250486</td>\n",
       "      <td>32.782130</td>\n",
       "      <td>0.001925</td>\n",
       "      <td>0.156664</td>\n",
       "      <td>0.170399</td>\n",
       "      <td>1.082196</td>\n",
       "      <td>0.805824</td>\n",
       "      <td>463.997116</td>\n",
       "    </tr>\n",
       "    <tr>\n",
       "      <th>min</th>\n",
       "      <td>4.600000</td>\n",
       "      <td>0.120000</td>\n",
       "      <td>0.000000</td>\n",
       "      <td>0.900000</td>\n",
       "      <td>0.012000</td>\n",
       "      <td>1.000000</td>\n",
       "      <td>6.000000</td>\n",
       "      <td>0.990070</td>\n",
       "      <td>2.740000</td>\n",
       "      <td>0.330000</td>\n",
       "      <td>8.400000</td>\n",
       "      <td>3.000000</td>\n",
       "      <td>0.000000</td>\n",
       "    </tr>\n",
       "    <tr>\n",
       "      <th>25%</th>\n",
       "      <td>7.100000</td>\n",
       "      <td>0.392500</td>\n",
       "      <td>0.090000</td>\n",
       "      <td>1.900000</td>\n",
       "      <td>0.070000</td>\n",
       "      <td>7.000000</td>\n",
       "      <td>21.000000</td>\n",
       "      <td>0.995570</td>\n",
       "      <td>3.205000</td>\n",
       "      <td>0.550000</td>\n",
       "      <td>9.500000</td>\n",
       "      <td>5.000000</td>\n",
       "      <td>411.000000</td>\n",
       "    </tr>\n",
       "    <tr>\n",
       "      <th>50%</th>\n",
       "      <td>7.900000</td>\n",
       "      <td>0.520000</td>\n",
       "      <td>0.250000</td>\n",
       "      <td>2.200000</td>\n",
       "      <td>0.079000</td>\n",
       "      <td>13.000000</td>\n",
       "      <td>37.000000</td>\n",
       "      <td>0.996680</td>\n",
       "      <td>3.310000</td>\n",
       "      <td>0.620000</td>\n",
       "      <td>10.200000</td>\n",
       "      <td>6.000000</td>\n",
       "      <td>794.000000</td>\n",
       "    </tr>\n",
       "    <tr>\n",
       "      <th>75%</th>\n",
       "      <td>9.100000</td>\n",
       "      <td>0.640000</td>\n",
       "      <td>0.420000</td>\n",
       "      <td>2.600000</td>\n",
       "      <td>0.090000</td>\n",
       "      <td>21.000000</td>\n",
       "      <td>61.000000</td>\n",
       "      <td>0.997845</td>\n",
       "      <td>3.400000</td>\n",
       "      <td>0.730000</td>\n",
       "      <td>11.100000</td>\n",
       "      <td>6.000000</td>\n",
       "      <td>1209.500000</td>\n",
       "    </tr>\n",
       "    <tr>\n",
       "      <th>max</th>\n",
       "      <td>15.900000</td>\n",
       "      <td>1.580000</td>\n",
       "      <td>1.000000</td>\n",
       "      <td>15.500000</td>\n",
       "      <td>0.611000</td>\n",
       "      <td>68.000000</td>\n",
       "      <td>289.000000</td>\n",
       "      <td>1.003690</td>\n",
       "      <td>4.010000</td>\n",
       "      <td>2.000000</td>\n",
       "      <td>14.900000</td>\n",
       "      <td>8.000000</td>\n",
       "      <td>1597.000000</td>\n",
       "    </tr>\n",
       "  </tbody>\n",
       "</table>\n",
       "</div>"
      ],
      "text/plain": [
       "       fixed acidity  volatile acidity  citric acid  residual sugar   \n",
       "count    1143.000000       1143.000000  1143.000000     1143.000000  \\\n",
       "mean        8.311111          0.531339     0.268364        2.532152   \n",
       "std         1.747595          0.179633     0.196686        1.355917   \n",
       "min         4.600000          0.120000     0.000000        0.900000   \n",
       "25%         7.100000          0.392500     0.090000        1.900000   \n",
       "50%         7.900000          0.520000     0.250000        2.200000   \n",
       "75%         9.100000          0.640000     0.420000        2.600000   \n",
       "max        15.900000          1.580000     1.000000       15.500000   \n",
       "\n",
       "         chlorides  free sulfur dioxide  total sulfur dioxide      density   \n",
       "count  1143.000000          1143.000000           1143.000000  1143.000000  \\\n",
       "mean      0.086933            15.615486             45.914698     0.996730   \n",
       "std       0.047267            10.250486             32.782130     0.001925   \n",
       "min       0.012000             1.000000              6.000000     0.990070   \n",
       "25%       0.070000             7.000000             21.000000     0.995570   \n",
       "50%       0.079000            13.000000             37.000000     0.996680   \n",
       "75%       0.090000            21.000000             61.000000     0.997845   \n",
       "max       0.611000            68.000000            289.000000     1.003690   \n",
       "\n",
       "                pH    sulphates      alcohol      quality           Id  \n",
       "count  1143.000000  1143.000000  1143.000000  1143.000000  1143.000000  \n",
       "mean      3.311015     0.657708    10.442111     5.657043   804.969379  \n",
       "std       0.156664     0.170399     1.082196     0.805824   463.997116  \n",
       "min       2.740000     0.330000     8.400000     3.000000     0.000000  \n",
       "25%       3.205000     0.550000     9.500000     5.000000   411.000000  \n",
       "50%       3.310000     0.620000    10.200000     6.000000   794.000000  \n",
       "75%       3.400000     0.730000    11.100000     6.000000  1209.500000  \n",
       "max       4.010000     2.000000    14.900000     8.000000  1597.000000  "
      ]
     },
     "execution_count": 8,
     "metadata": {},
     "output_type": "execute_result"
    }
   ],
   "source": [
    "## View the stastical information of the dataset\n",
    "df.describe()"
   ]
  },
  {
   "cell_type": "markdown",
   "id": "6d5a8c56",
   "metadata": {},
   "source": [
    "### Handling missing values"
   ]
  },
  {
   "cell_type": "code",
   "execution_count": 9,
   "id": "cd594934",
   "metadata": {},
   "outputs": [
    {
     "data": {
      "text/plain": [
       "fixed acidity           0\n",
       "volatile acidity        0\n",
       "citric acid             0\n",
       "residual sugar          0\n",
       "chlorides               0\n",
       "free sulfur dioxide     0\n",
       "total sulfur dioxide    0\n",
       "density                 0\n",
       "pH                      0\n",
       "sulphates               0\n",
       "alcohol                 0\n",
       "quality                 0\n",
       "Id                      0\n",
       "dtype: int64"
      ]
     },
     "execution_count": 9,
     "metadata": {},
     "output_type": "execute_result"
    }
   ],
   "source": [
    "df.isnull().sum()"
   ]
  },
  {
   "cell_type": "markdown",
   "id": "008f5a33",
   "metadata": {},
   "source": [
    "### Check Duplicate Records"
   ]
  },
  {
   "cell_type": "code",
   "execution_count": 10,
   "id": "769a878b",
   "metadata": {},
   "outputs": [
    {
     "name": "stdout",
     "output_type": "stream",
     "text": [
      "0\n"
     ]
    },
    {
     "data": {
      "text/html": [
       "<div>\n",
       "<style scoped>\n",
       "    .dataframe tbody tr th:only-of-type {\n",
       "        vertical-align: middle;\n",
       "    }\n",
       "\n",
       "    .dataframe tbody tr th {\n",
       "        vertical-align: top;\n",
       "    }\n",
       "\n",
       "    .dataframe thead th {\n",
       "        text-align: right;\n",
       "    }\n",
       "</style>\n",
       "<table border=\"1\" class=\"dataframe\">\n",
       "  <thead>\n",
       "    <tr style=\"text-align: right;\">\n",
       "      <th></th>\n",
       "      <th>fixed acidity</th>\n",
       "      <th>volatile acidity</th>\n",
       "      <th>citric acid</th>\n",
       "      <th>residual sugar</th>\n",
       "      <th>chlorides</th>\n",
       "      <th>free sulfur dioxide</th>\n",
       "      <th>total sulfur dioxide</th>\n",
       "      <th>density</th>\n",
       "      <th>pH</th>\n",
       "      <th>sulphates</th>\n",
       "      <th>alcohol</th>\n",
       "      <th>quality</th>\n",
       "      <th>Id</th>\n",
       "    </tr>\n",
       "  </thead>\n",
       "  <tbody>\n",
       "  </tbody>\n",
       "</table>\n",
       "</div>"
      ],
      "text/plain": [
       "Empty DataFrame\n",
       "Columns: [fixed acidity, volatile acidity, citric acid, residual sugar, chlorides, free sulfur dioxide, total sulfur dioxide, density, pH, sulphates, alcohol, quality, Id]\n",
       "Index: []"
      ]
     },
     "execution_count": 10,
     "metadata": {},
     "output_type": "execute_result"
    }
   ],
   "source": [
    "duplicate = df.duplicated()\n",
    "print(duplicate.sum())\n",
    "df[duplicate]"
   ]
  },
  {
   "cell_type": "code",
   "execution_count": 11,
   "id": "92394367",
   "metadata": {},
   "outputs": [],
   "source": [
    "df.drop_duplicates(inplace=True)"
   ]
  },
  {
   "cell_type": "markdown",
   "id": "cea1ca33",
   "metadata": {},
   "source": [
    "### Data Visualization"
   ]
  },
  {
   "cell_type": "code",
   "execution_count": 12,
   "id": "e4d03362",
   "metadata": {},
   "outputs": [
    {
     "name": "stdout",
     "output_type": "stream",
     "text": [
      "quality\n",
      "5    483\n",
      "6    462\n",
      "7    143\n",
      "4     33\n",
      "8     16\n",
      "3      6\n",
      "Name: count, dtype: int64\n"
     ]
    }
   ],
   "source": [
    "print(df.quality.value_counts())"
   ]
  },
  {
   "cell_type": "code",
   "execution_count": 14,
   "id": "9a2ebba3",
   "metadata": {},
   "outputs": [
    {
     "data": {
      "image/png": "[encoded data removed]",
      "text/plain": [
       "<Figure size 1200x600 with 1 Axes>"
      ]
     },
     "metadata": {},
     "output_type": "display_data"
    }
   ],
   "source": [
    "plt.figure(figsize = (12,6))\n",
    "sns.barplot(x ='quality', y ='alcohol', data = df, palette = 'inferno')\n",
    "plt.show()"
   ]
  },
  {
   "cell_type": "code",
   "execution_count": 15,
   "id": "d1693151",
   "metadata": {},
   "outputs": [
    {
     "data": {
      "image/png": "[encoded data removed]",
      "text/plain": [
       "<Figure size 1200x600 with 1 Axes>"
      ]
     },
     "metadata": {},
     "output_type": "display_data"
    }
   ],
   "source": [
    "plt.figure(figsize = (12,6))\n",
    "sns.scatterplot(x = 'citric acid', y = 'pH', data = df)\n",
    "plt.show()"
   ]
  },
  {
   "cell_type": "markdown",
   "id": "5e655e78",
   "metadata": {},
   "source": [
    "### Correlation Matrix"
   ]
  },
  {
   "cell_type": "code",
   "execution_count": 16,
   "id": "56850231",
   "metadata": {},
   "outputs": [
    {
     "data": {
      "text/html": [
       "<div>\n",
       "<style scoped>\n",
       "    .dataframe tbody tr th:only-of-type {\n",
       "        vertical-align: middle;\n",
       "    }\n",
       "\n",
       "    .dataframe tbody tr th {\n",
       "        vertical-align: top;\n",
       "    }\n",
       "\n",
       "    .dataframe thead th {\n",
       "        text-align: right;\n",
       "    }\n",
       "</style>\n",
       "<table border=\"1\" class=\"dataframe\">\n",
       "  <thead>\n",
       "    <tr style=\"text-align: right;\">\n",
       "      <th></th>\n",
       "      <th>fixed acidity</th>\n",
       "      <th>volatile acidity</th>\n",
       "      <th>citric acid</th>\n",
       "      <th>residual sugar</th>\n",
       "      <th>chlorides</th>\n",
       "      <th>free sulfur dioxide</th>\n",
       "      <th>total sulfur dioxide</th>\n",
       "      <th>density</th>\n",
       "      <th>pH</th>\n",
       "      <th>sulphates</th>\n",
       "      <th>alcohol</th>\n",
       "      <th>quality</th>\n",
       "      <th>Id</th>\n",
       "    </tr>\n",
       "  </thead>\n",
       "  <tbody>\n",
       "    <tr>\n",
       "      <th>fixed acidity</th>\n",
       "      <td>1.000000</td>\n",
       "      <td>-0.250728</td>\n",
       "      <td>0.673157</td>\n",
       "      <td>0.171831</td>\n",
       "      <td>0.107889</td>\n",
       "      <td>-0.164831</td>\n",
       "      <td>-0.110628</td>\n",
       "      <td>0.681501</td>\n",
       "      <td>-0.685163</td>\n",
       "      <td>0.174592</td>\n",
       "      <td>-0.075055</td>\n",
       "      <td>0.121970</td>\n",
       "      <td>-0.275826</td>\n",
       "    </tr>\n",
       "    <tr>\n",
       "      <th>volatile acidity</th>\n",
       "      <td>-0.250728</td>\n",
       "      <td>1.000000</td>\n",
       "      <td>-0.544187</td>\n",
       "      <td>-0.005751</td>\n",
       "      <td>0.056336</td>\n",
       "      <td>-0.001962</td>\n",
       "      <td>0.077748</td>\n",
       "      <td>0.016512</td>\n",
       "      <td>0.221492</td>\n",
       "      <td>-0.276079</td>\n",
       "      <td>-0.203909</td>\n",
       "      <td>-0.407394</td>\n",
       "      <td>-0.007892</td>\n",
       "    </tr>\n",
       "    <tr>\n",
       "      <th>citric acid</th>\n",
       "      <td>0.673157</td>\n",
       "      <td>-0.544187</td>\n",
       "      <td>1.000000</td>\n",
       "      <td>0.175815</td>\n",
       "      <td>0.245312</td>\n",
       "      <td>-0.057589</td>\n",
       "      <td>0.036871</td>\n",
       "      <td>0.375243</td>\n",
       "      <td>-0.546339</td>\n",
       "      <td>0.331232</td>\n",
       "      <td>0.106250</td>\n",
       "      <td>0.240821</td>\n",
       "      <td>-0.139011</td>\n",
       "    </tr>\n",
       "    <tr>\n",
       "      <th>residual sugar</th>\n",
       "      <td>0.171831</td>\n",
       "      <td>-0.005751</td>\n",
       "      <td>0.175815</td>\n",
       "      <td>1.000000</td>\n",
       "      <td>0.070863</td>\n",
       "      <td>0.165339</td>\n",
       "      <td>0.190790</td>\n",
       "      <td>0.380147</td>\n",
       "      <td>-0.116959</td>\n",
       "      <td>0.017475</td>\n",
       "      <td>0.058421</td>\n",
       "      <td>0.022002</td>\n",
       "      <td>-0.046344</td>\n",
       "    </tr>\n",
       "    <tr>\n",
       "      <th>chlorides</th>\n",
       "      <td>0.107889</td>\n",
       "      <td>0.056336</td>\n",
       "      <td>0.245312</td>\n",
       "      <td>0.070863</td>\n",
       "      <td>1.000000</td>\n",
       "      <td>0.015280</td>\n",
       "      <td>0.048163</td>\n",
       "      <td>0.208901</td>\n",
       "      <td>-0.277759</td>\n",
       "      <td>0.374784</td>\n",
       "      <td>-0.229917</td>\n",
       "      <td>-0.124085</td>\n",
       "      <td>-0.088099</td>\n",
       "    </tr>\n",
       "    <tr>\n",
       "      <th>free sulfur dioxide</th>\n",
       "      <td>-0.164831</td>\n",
       "      <td>-0.001962</td>\n",
       "      <td>-0.057589</td>\n",
       "      <td>0.165339</td>\n",
       "      <td>0.015280</td>\n",
       "      <td>1.000000</td>\n",
       "      <td>0.661093</td>\n",
       "      <td>-0.054150</td>\n",
       "      <td>0.072804</td>\n",
       "      <td>0.034445</td>\n",
       "      <td>-0.047095</td>\n",
       "      <td>-0.063260</td>\n",
       "      <td>0.095268</td>\n",
       "    </tr>\n",
       "    <tr>\n",
       "      <th>total sulfur dioxide</th>\n",
       "      <td>-0.110628</td>\n",
       "      <td>0.077748</td>\n",
       "      <td>0.036871</td>\n",
       "      <td>0.190790</td>\n",
       "      <td>0.048163</td>\n",
       "      <td>0.661093</td>\n",
       "      <td>1.000000</td>\n",
       "      <td>0.050175</td>\n",
       "      <td>-0.059126</td>\n",
       "      <td>0.026894</td>\n",
       "      <td>-0.188165</td>\n",
       "      <td>-0.183339</td>\n",
       "      <td>-0.107389</td>\n",
       "    </tr>\n",
       "    <tr>\n",
       "      <th>density</th>\n",
       "      <td>0.681501</td>\n",
       "      <td>0.016512</td>\n",
       "      <td>0.375243</td>\n",
       "      <td>0.380147</td>\n",
       "      <td>0.208901</td>\n",
       "      <td>-0.054150</td>\n",
       "      <td>0.050175</td>\n",
       "      <td>1.000000</td>\n",
       "      <td>-0.352775</td>\n",
       "      <td>0.143139</td>\n",
       "      <td>-0.494727</td>\n",
       "      <td>-0.175208</td>\n",
       "      <td>-0.363926</td>\n",
       "    </tr>\n",
       "    <tr>\n",
       "      <th>pH</th>\n",
       "      <td>-0.685163</td>\n",
       "      <td>0.221492</td>\n",
       "      <td>-0.546339</td>\n",
       "      <td>-0.116959</td>\n",
       "      <td>-0.277759</td>\n",
       "      <td>0.072804</td>\n",
       "      <td>-0.059126</td>\n",
       "      <td>-0.352775</td>\n",
       "      <td>1.000000</td>\n",
       "      <td>-0.185499</td>\n",
       "      <td>0.225322</td>\n",
       "      <td>-0.052453</td>\n",
       "      <td>0.132904</td>\n",
       "    </tr>\n",
       "    <tr>\n",
       "      <th>sulphates</th>\n",
       "      <td>0.174592</td>\n",
       "      <td>-0.276079</td>\n",
       "      <td>0.331232</td>\n",
       "      <td>0.017475</td>\n",
       "      <td>0.374784</td>\n",
       "      <td>0.034445</td>\n",
       "      <td>0.026894</td>\n",
       "      <td>0.143139</td>\n",
       "      <td>-0.185499</td>\n",
       "      <td>1.000000</td>\n",
       "      <td>0.094421</td>\n",
       "      <td>0.257710</td>\n",
       "      <td>-0.103954</td>\n",
       "    </tr>\n",
       "    <tr>\n",
       "      <th>alcohol</th>\n",
       "      <td>-0.075055</td>\n",
       "      <td>-0.203909</td>\n",
       "      <td>0.106250</td>\n",
       "      <td>0.058421</td>\n",
       "      <td>-0.229917</td>\n",
       "      <td>-0.047095</td>\n",
       "      <td>-0.188165</td>\n",
       "      <td>-0.494727</td>\n",
       "      <td>0.225322</td>\n",
       "      <td>0.094421</td>\n",
       "      <td>1.000000</td>\n",
       "      <td>0.484866</td>\n",
       "      <td>0.238087</td>\n",
       "    </tr>\n",
       "    <tr>\n",
       "      <th>quality</th>\n",
       "      <td>0.121970</td>\n",
       "      <td>-0.407394</td>\n",
       "      <td>0.240821</td>\n",
       "      <td>0.022002</td>\n",
       "      <td>-0.124085</td>\n",
       "      <td>-0.063260</td>\n",
       "      <td>-0.183339</td>\n",
       "      <td>-0.175208</td>\n",
       "      <td>-0.052453</td>\n",
       "      <td>0.257710</td>\n",
       "      <td>0.484866</td>\n",
       "      <td>1.000000</td>\n",
       "      <td>0.069708</td>\n",
       "    </tr>\n",
       "    <tr>\n",
       "      <th>Id</th>\n",
       "      <td>-0.275826</td>\n",
       "      <td>-0.007892</td>\n",
       "      <td>-0.139011</td>\n",
       "      <td>-0.046344</td>\n",
       "      <td>-0.088099</td>\n",
       "      <td>0.095268</td>\n",
       "      <td>-0.107389</td>\n",
       "      <td>-0.363926</td>\n",
       "      <td>0.132904</td>\n",
       "      <td>-0.103954</td>\n",
       "      <td>0.238087</td>\n",
       "      <td>0.069708</td>\n",
       "      <td>1.000000</td>\n",
       "    </tr>\n",
       "  </tbody>\n",
       "</table>\n",
       "</div>"
      ],
      "text/plain": [
       "                      fixed acidity  volatile acidity  citric acid   \n",
       "fixed acidity              1.000000         -0.250728     0.673157  \\\n",
       "volatile acidity          -0.250728          1.000000    -0.544187   \n",
       "citric acid                0.673157         -0.544187     1.000000   \n",
       "residual sugar             0.171831         -0.005751     0.175815   \n",
       "chlorides                  0.107889          0.056336     0.245312   \n",
       "free sulfur dioxide       -0.164831         -0.001962    -0.057589   \n",
       "total sulfur dioxide      -0.110628          0.077748     0.036871   \n",
       "density                    0.681501          0.016512     0.375243   \n",
       "pH                        -0.685163          0.221492    -0.546339   \n",
       "sulphates                  0.174592         -0.276079     0.331232   \n",
       "alcohol                   -0.075055         -0.203909     0.106250   \n",
       "quality                    0.121970         -0.407394     0.240821   \n",
       "Id                        -0.275826         -0.007892    -0.139011   \n",
       "\n",
       "                      residual sugar  chlorides  free sulfur dioxide   \n",
       "fixed acidity               0.171831   0.107889            -0.164831  \\\n",
       "volatile acidity           -0.005751   0.056336            -0.001962   \n",
       "citric acid                 0.175815   0.245312            -0.057589   \n",
       "residual sugar              1.000000   0.070863             0.165339   \n",
       "chlorides                   0.070863   1.000000             0.015280   \n",
       "free sulfur dioxide         0.165339   0.015280             1.000000   \n",
       "total sulfur dioxide        0.190790   0.048163             0.661093   \n",
       "density                     0.380147   0.208901            -0.054150   \n",
       "pH                         -0.116959  -0.277759             0.072804   \n",
       "sulphates                   0.017475   0.374784             0.034445   \n",
       "alcohol                     0.058421  -0.229917            -0.047095   \n",
       "quality                     0.022002  -0.124085            -0.063260   \n",
       "Id                         -0.046344  -0.088099             0.095268   \n",
       "\n",
       "                      total sulfur dioxide   density        pH  sulphates   \n",
       "fixed acidity                    -0.110628  0.681501 -0.685163   0.174592  \\\n",
       "volatile acidity                  0.077748  0.016512  0.221492  -0.276079   \n",
       "citric acid                       0.036871  0.375243 -0.546339   0.331232   \n",
       "residual sugar                    0.190790  0.380147 -0.116959   0.017475   \n",
       "chlorides                         0.048163  0.208901 -0.277759   0.374784   \n",
       "free sulfur dioxide               0.661093 -0.054150  0.072804   0.034445   \n",
       "total sulfur dioxide              1.000000  0.050175 -0.059126   0.026894   \n",
       "density                           0.050175  1.000000 -0.352775   0.143139   \n",
       "pH                               -0.059126 -0.352775  1.000000  -0.185499   \n",
       "sulphates                         0.026894  0.143139 -0.185499   1.000000   \n",
       "alcohol                          -0.188165 -0.494727  0.225322   0.094421   \n",
       "quality                          -0.183339 -0.175208 -0.052453   0.257710   \n",
       "Id                               -0.107389 -0.363926  0.132904  -0.103954   \n",
       "\n",
       "                       alcohol   quality        Id  \n",
       "fixed acidity        -0.075055  0.121970 -0.275826  \n",
       "volatile acidity     -0.203909 -0.407394 -0.007892  \n",
       "citric acid           0.106250  0.240821 -0.139011  \n",
       "residual sugar        0.058421  0.022002 -0.046344  \n",
       "chlorides            -0.229917 -0.124085 -0.088099  \n",
       "free sulfur dioxide  -0.047095 -0.063260  0.095268  \n",
       "total sulfur dioxide -0.188165 -0.183339 -0.107389  \n",
       "density              -0.494727 -0.175208 -0.363926  \n",
       "pH                    0.225322 -0.052453  0.132904  \n",
       "sulphates             0.094421  0.257710 -0.103954  \n",
       "alcohol               1.000000  0.484866  0.238087  \n",
       "quality               0.484866  1.000000  0.069708  \n",
       "Id                    0.238087  0.069708  1.000000  "
      ]
     },
     "execution_count": 16,
     "metadata": {},
     "output_type": "execute_result"
    }
   ],
   "source": [
    "df.corr()"
   ]
  },
  {
   "cell_type": "code",
   "execution_count": 17,
   "id": "c51566ae",
   "metadata": {},
   "outputs": [
    {
     "data": {
      "image/png": "[encoded data removed]",
      "text/plain": [
       "<Figure size 1200x600 with 2 Axes>"
      ]
     },
     "metadata": {},
     "output_type": "display_data"
    }
   ],
   "source": [
    "corr = df.corr()\n",
    "plt.figure(figsize = (12,6))\n",
    "sns.heatmap(corr,annot=True,cmap='coolwarm')\n",
    "plt.show()"
   ]
  },
  {
   "cell_type": "markdown",
   "id": "62eaac51",
   "metadata": {},
   "source": [
    "### Divide the dataset into dependent and independent variables"
   ]
  },
  {
   "cell_type": "code",
   "execution_count": 18,
   "id": "89d53f4a",
   "metadata": {},
   "outputs": [],
   "source": [
    "target_name = 'quality'\n",
    "Y = df[target_name]\n",
    "X = df.drop(target_name, axis=1)"
   ]
  },
  {
   "cell_type": "code",
   "execution_count": 19,
   "id": "37e9aadb",
   "metadata": {},
   "outputs": [
    {
     "data": {
      "text/html": [
       "<div>\n",
       "<style scoped>\n",
       "    .dataframe tbody tr th:only-of-type {\n",
       "        vertical-align: middle;\n",
       "    }\n",
       "\n",
       "    .dataframe tbody tr th {\n",
       "        vertical-align: top;\n",
       "    }\n",
       "\n",
       "    .dataframe thead th {\n",
       "        text-align: right;\n",
       "    }\n",
       "</style>\n",
       "<table border=\"1\" class=\"dataframe\">\n",
       "  <thead>\n",
       "    <tr style=\"text-align: right;\">\n",
       "      <th></th>\n",
       "      <th>fixed acidity</th>\n",
       "      <th>volatile acidity</th>\n",
       "      <th>citric acid</th>\n",
       "      <th>residual sugar</th>\n",
       "      <th>chlorides</th>\n",
       "      <th>free sulfur dioxide</th>\n",
       "      <th>total sulfur dioxide</th>\n",
       "      <th>density</th>\n",
       "      <th>pH</th>\n",
       "      <th>sulphates</th>\n",
       "      <th>alcohol</th>\n",
       "      <th>Id</th>\n",
       "    </tr>\n",
       "  </thead>\n",
       "  <tbody>\n",
       "    <tr>\n",
       "      <th>0</th>\n",
       "      <td>7.4</td>\n",
       "      <td>0.70</td>\n",
       "      <td>0.00</td>\n",
       "      <td>1.9</td>\n",
       "      <td>0.076</td>\n",
       "      <td>11.0</td>\n",
       "      <td>34.0</td>\n",
       "      <td>0.9978</td>\n",
       "      <td>3.51</td>\n",
       "      <td>0.56</td>\n",
       "      <td>9.4</td>\n",
       "      <td>0</td>\n",
       "    </tr>\n",
       "    <tr>\n",
       "      <th>1</th>\n",
       "      <td>7.8</td>\n",
       "      <td>0.88</td>\n",
       "      <td>0.00</td>\n",
       "      <td>2.6</td>\n",
       "      <td>0.098</td>\n",
       "      <td>25.0</td>\n",
       "      <td>67.0</td>\n",
       "      <td>0.9968</td>\n",
       "      <td>3.20</td>\n",
       "      <td>0.68</td>\n",
       "      <td>9.8</td>\n",
       "      <td>1</td>\n",
       "    </tr>\n",
       "    <tr>\n",
       "      <th>2</th>\n",
       "      <td>7.8</td>\n",
       "      <td>0.76</td>\n",
       "      <td>0.04</td>\n",
       "      <td>2.3</td>\n",
       "      <td>0.092</td>\n",
       "      <td>15.0</td>\n",
       "      <td>54.0</td>\n",
       "      <td>0.9970</td>\n",
       "      <td>3.26</td>\n",
       "      <td>0.65</td>\n",
       "      <td>9.8</td>\n",
       "      <td>2</td>\n",
       "    </tr>\n",
       "    <tr>\n",
       "      <th>3</th>\n",
       "      <td>11.2</td>\n",
       "      <td>0.28</td>\n",
       "      <td>0.56</td>\n",
       "      <td>1.9</td>\n",
       "      <td>0.075</td>\n",
       "      <td>17.0</td>\n",
       "      <td>60.0</td>\n",
       "      <td>0.9980</td>\n",
       "      <td>3.16</td>\n",
       "      <td>0.58</td>\n",
       "      <td>9.8</td>\n",
       "      <td>3</td>\n",
       "    </tr>\n",
       "    <tr>\n",
       "      <th>4</th>\n",
       "      <td>7.4</td>\n",
       "      <td>0.70</td>\n",
       "      <td>0.00</td>\n",
       "      <td>1.9</td>\n",
       "      <td>0.076</td>\n",
       "      <td>11.0</td>\n",
       "      <td>34.0</td>\n",
       "      <td>0.9978</td>\n",
       "      <td>3.51</td>\n",
       "      <td>0.56</td>\n",
       "      <td>9.4</td>\n",
       "      <td>4</td>\n",
       "    </tr>\n",
       "  </tbody>\n",
       "</table>\n",
       "</div>"
      ],
      "text/plain": [
       "   fixed acidity  volatile acidity  citric acid  residual sugar  chlorides   \n",
       "0            7.4              0.70         0.00             1.9      0.076  \\\n",
       "1            7.8              0.88         0.00             2.6      0.098   \n",
       "2            7.8              0.76         0.04             2.3      0.092   \n",
       "3           11.2              0.28         0.56             1.9      0.075   \n",
       "4            7.4              0.70         0.00             1.9      0.076   \n",
       "\n",
       "   free sulfur dioxide  total sulfur dioxide  density    pH  sulphates   \n",
       "0                 11.0                  34.0   0.9978  3.51       0.56  \\\n",
       "1                 25.0                  67.0   0.9968  3.20       0.68   \n",
       "2                 15.0                  54.0   0.9970  3.26       0.65   \n",
       "3                 17.0                  60.0   0.9980  3.16       0.58   \n",
       "4                 11.0                  34.0   0.9978  3.51       0.56   \n",
       "\n",
       "   alcohol  Id  \n",
       "0      9.4   0  \n",
       "1      9.8   1  \n",
       "2      9.8   2  \n",
       "3      9.8   3  \n",
       "4      9.4   4  "
      ]
     },
     "execution_count": 19,
     "metadata": {},
     "output_type": "execute_result"
    }
   ],
   "source": [
    "X.head()"
   ]
  },
  {
   "cell_type": "code",
   "execution_count": 20,
   "id": "cff7c8eb",
   "metadata": {},
   "outputs": [
    {
     "data": {
      "text/plain": [
       "(1143, 12)"
      ]
     },
     "execution_count": 20,
     "metadata": {},
     "output_type": "execute_result"
    }
   ],
   "source": [
    "X.shape"
   ]
  },
  {
   "cell_type": "code",
   "execution_count": 21,
   "id": "be7a833e",
   "metadata": {},
   "outputs": [
    {
     "data": {
      "text/plain": [
       "0    5\n",
       "1    5\n",
       "2    5\n",
       "3    6\n",
       "4    5\n",
       "Name: quality, dtype: int64"
      ]
     },
     "execution_count": 21,
     "metadata": {},
     "output_type": "execute_result"
    }
   ],
   "source": [
    "Y.head()"
   ]
  },
  {
   "cell_type": "code",
   "execution_count": 22,
   "id": "1577f0e7",
   "metadata": {},
   "outputs": [
    {
     "data": {
      "text/plain": [
       "(1143,)"
      ]
     },
     "execution_count": 22,
     "metadata": {},
     "output_type": "execute_result"
    }
   ],
   "source": [
    "Y.shape"
   ]
  },
  {
   "cell_type": "markdown",
   "id": "a09b2d7d",
   "metadata": {},
   "source": [
    "### Standard Scaling"
   ]
  },
  {
   "cell_type": "code",
   "execution_count": 23,
   "id": "6add0a95",
   "metadata": {},
   "outputs": [],
   "source": [
    "from sklearn.preprocessing import StandardScaler\n",
    "sc = StandardScaler()\n",
    "x_res = sc.fit_transform(X)"
   ]
  },
  {
   "cell_type": "code",
   "execution_count": 24,
   "id": "a128e590",
   "metadata": {},
   "outputs": [
    {
     "data": {
      "text/plain": [
       "(1143, 12)"
      ]
     },
     "execution_count": 24,
     "metadata": {},
     "output_type": "execute_result"
    }
   ],
   "source": [
    "x_res.shape"
   ]
  },
  {
   "cell_type": "code",
   "execution_count": 25,
   "id": "fa9d8c55",
   "metadata": {},
   "outputs": [
    {
     "data": {
      "text/plain": [
       "(1143, 10)"
      ]
     },
     "execution_count": 25,
     "metadata": {},
     "output_type": "execute_result"
    }
   ],
   "source": [
    "X1 = X.drop(['residual sugar', 'density'], axis=1)\n",
    "X1.shape"
   ]
  },
  {
   "cell_type": "markdown",
   "id": "2203bdf0",
   "metadata": {},
   "source": [
    "### Create TRAIN and Test Datasets"
   ]
  },
  {
   "cell_type": "code",
   "execution_count": 26,
   "id": "8a0bd219",
   "metadata": {},
   "outputs": [],
   "source": [
    "from sklearn.model_selection import train_test_split\n",
    "X_train, X_test, Y_train, Y_test = train_test_split(X1,Y, test_size=0.2, random_state=7)"
   ]
  },
  {
   "cell_type": "code",
   "execution_count": 27,
   "id": "b0a6c230",
   "metadata": {},
   "outputs": [
    {
     "data": {
      "text/plain": [
       "((914, 10), (914,))"
      ]
     },
     "execution_count": 27,
     "metadata": {},
     "output_type": "execute_result"
    }
   ],
   "source": [
    "X_train.shape, Y_train.shape"
   ]
  },
  {
   "cell_type": "code",
   "execution_count": 28,
   "id": "64d87a3e",
   "metadata": {},
   "outputs": [
    {
     "data": {
      "text/plain": [
       "((229, 10), (914,))"
      ]
     },
     "execution_count": 28,
     "metadata": {},
     "output_type": "execute_result"
    }
   ],
   "source": [
    "X_test.shape, Y_train.shape"
   ]
  },
  {
   "cell_type": "markdown",
   "id": "25a88624",
   "metadata": {},
   "source": [
    "### Decision Tree Classifier"
   ]
  },
  {
   "cell_type": "code",
   "execution_count": 29,
   "id": "92709df7",
   "metadata": {},
   "outputs": [],
   "source": [
    "from sklearn.tree import DecisionTreeClassifier\n",
    "dt = DecisionTreeClassifier()\n",
    "dt.fit(X_train,Y_train)\n",
    "dt_train_pred = dt.predict(X_train)\n",
    "dt_test_pred = dt.predict(X_test)"
   ]
  },
  {
   "cell_type": "code",
   "execution_count": 30,
   "id": "f3672696",
   "metadata": {},
   "outputs": [],
   "source": [
    "import warnings\n",
    "warnings.filterwarnings('ignore')"
   ]
  },
  {
   "cell_type": "code",
   "execution_count": 31,
   "id": "d27f330d",
   "metadata": {},
   "outputs": [],
   "source": [
    "from sklearn.metrics import confusion_matrix,classification_report, accuracy_score"
   ]
  },
  {
   "cell_type": "code",
   "execution_count": 32,
   "id": "b2f11379",
   "metadata": {},
   "outputs": [
    {
     "name": "stdout",
     "output_type": "stream",
     "text": [
      "Train Accuracy: 100.0\n"
     ]
    }
   ],
   "source": [
    "print('Train Accuracy:', accuracy_score(Y_train,dt_train_pred)*100)"
   ]
  },
  {
   "cell_type": "code",
   "execution_count": 33,
   "id": "77587ed4",
   "metadata": {},
   "outputs": [
    {
     "name": "stdout",
     "output_type": "stream",
     "text": [
      "Accuracy Score 58.07860262008734\n"
     ]
    }
   ],
   "source": [
    "print('Accuracy Score', accuracy_score(Y_test,dt_test_pred)*100)"
   ]
  },
  {
   "cell_type": "code",
   "execution_count": 34,
   "id": "86d6bdc3",
   "metadata": {},
   "outputs": [
    {
     "name": "stdout",
     "output_type": "stream",
     "text": [
      "[[ 0  0  0  0  0  0]\n",
      " [ 0  0  3  2  0  0]\n",
      " [ 1  3 68 24  2  0]\n",
      " [ 0  1 33 49 11  0]\n",
      " [ 0  0  4 11 15  0]\n",
      " [ 0  0  0  0  1  1]]\n"
     ]
    }
   ],
   "source": [
    "print(confusion_matrix(Y_test,dt_test_pred))"
   ]
  },
  {
   "cell_type": "code",
   "execution_count": 35,
   "id": "cfef679a",
   "metadata": {},
   "outputs": [
    {
     "name": "stdout",
     "output_type": "stream",
     "text": [
      "              precision    recall  f1-score   support\n",
      "\n",
      "           3     0.0000    0.0000    0.0000         0\n",
      "           4     0.0000    0.0000    0.0000         5\n",
      "           5     0.6296    0.6939    0.6602        98\n",
      "           6     0.5698    0.5213    0.5444        94\n",
      "           7     0.5172    0.5000    0.5085        30\n",
      "           8     1.0000    0.5000    0.6667         2\n",
      "\n",
      "    accuracy                         0.5808       229\n",
      "   macro avg     0.4528    0.3692    0.3966       229\n",
      "weighted avg     0.5798    0.5808    0.5784       229\n",
      "\n"
     ]
    }
   ],
   "source": [
    "print(classification_report(Y_test,dt_test_pred, digits=4))"
   ]
  },
  {
   "cell_type": "markdown",
   "id": "3d6dc6f4",
   "metadata": {},
   "source": [
    "### Precision of Decision Tree Classifier"
   ]
  },
  {
   "cell_type": "code",
   "execution_count": 36,
   "id": "fe5f57d8",
   "metadata": {},
   "outputs": [
    {
     "name": "stdout",
     "output_type": "stream",
     "text": [
      "precision Score of macro is: 45.28\n",
      "precision Score of micro is: 104.54\n",
      "precision Score of weighted is: 57.98\n"
     ]
    }
   ],
   "source": [
    "from sklearn.metrics import precision_score, recall_score, f1_score, classification_report, confusion_matrix \n",
    "print(\"precision Score of macro is:\", round(precision_score(Y_test, dt_test_pred, average='macro')*100,2)) \n",
    "print(\"precision Score of micro is:\", round(precision_score(Y_test,dt_test_pred, average='micro')*180,2)) \n",
    "print(\"precision Score of weighted is:\", round(precision_score(Y_test, dt_test_pred, average='weighted')*100,2))"
   ]
  },
  {
   "cell_type": "markdown",
   "id": "020521ec",
   "metadata": {},
   "source": [
    "### Recall of Decision Tree Classifier"
   ]
  },
  {
   "cell_type": "code",
   "execution_count": 37,
   "id": "ad233a55",
   "metadata": {},
   "outputs": [
    {
     "name": "stdout",
     "output_type": "stream",
     "text": [
      "recall Score of macro is:  36.92\n",
      "recall Score of micro is:  58.08\n",
      "recall Score of weighted is: 58.08\n"
     ]
    }
   ],
   "source": [
    "print(\"recall Score of macro is: \", round(recall_score(Y_test,dt_test_pred, average='macro')*100,2)) \n",
    "print(\"recall Score of micro is: \", round(recall_score(Y_test,dt_test_pred, average='micro')*100,2)) \n",
    "print(\"recall Score of weighted is:\", round (recall_score(Y_test,dt_test_pred, average='weighted')*100,2))"
   ]
  },
  {
   "cell_type": "markdown",
   "id": "c09b36c4",
   "metadata": {},
   "source": [
    "### F1_Score of Decision Tree Classifier"
   ]
  },
  {
   "cell_type": "code",
   "execution_count": 38,
   "id": "090be988",
   "metadata": {},
   "outputs": [
    {
     "name": "stdout",
     "output_type": "stream",
     "text": [
      "f1_score of macro : 39.66\n",
      "f1_score of micro: 104.54\n",
      "f1_score of weighted : 57.84\n"
     ]
    }
   ],
   "source": [
    "print('f1_score of macro :',round (f1_score (Y_test, dt_test_pred, average='macro')*100,2))\n",
    "print('f1_score of micro:',round (f1_score (Y_test, dt_test_pred, average='micro')*180,2)) \n",
    "print('f1_score of weighted :',round (f1_score (Y_test, dt_test_pred, average='weighted')*100,2))"
   ]
  },
  {
   "cell_type": "code",
   "execution_count": 39,
   "id": "b515b381",
   "metadata": {},
   "outputs": [
    {
     "data": {
      "text/html": [
       "<div>\n",
       "<style scoped>\n",
       "    .dataframe tbody tr th:only-of-type {\n",
       "        vertical-align: middle;\n",
       "    }\n",
       "\n",
       "    .dataframe tbody tr th {\n",
       "        vertical-align: top;\n",
       "    }\n",
       "\n",
       "    .dataframe thead th {\n",
       "        text-align: right;\n",
       "    }\n",
       "</style>\n",
       "<table border=\"1\" class=\"dataframe\">\n",
       "  <thead>\n",
       "    <tr style=\"text-align: right;\">\n",
       "      <th></th>\n",
       "      <th>fixed acidity</th>\n",
       "      <th>volatile acidity</th>\n",
       "      <th>citric acid</th>\n",
       "      <th>residual sugar</th>\n",
       "      <th>chlorides</th>\n",
       "      <th>free sulfur dioxide</th>\n",
       "      <th>total sulfur dioxide</th>\n",
       "      <th>density</th>\n",
       "      <th>pH</th>\n",
       "      <th>sulphates</th>\n",
       "      <th>alcohol</th>\n",
       "      <th>quality</th>\n",
       "      <th>Id</th>\n",
       "    </tr>\n",
       "  </thead>\n",
       "  <tbody>\n",
       "    <tr>\n",
       "      <th>0</th>\n",
       "      <td>7.4</td>\n",
       "      <td>0.70</td>\n",
       "      <td>0.00</td>\n",
       "      <td>1.9</td>\n",
       "      <td>0.076</td>\n",
       "      <td>11.0</td>\n",
       "      <td>34.0</td>\n",
       "      <td>0.9978</td>\n",
       "      <td>3.51</td>\n",
       "      <td>0.56</td>\n",
       "      <td>9.4</td>\n",
       "      <td>5</td>\n",
       "      <td>0</td>\n",
       "    </tr>\n",
       "    <tr>\n",
       "      <th>1</th>\n",
       "      <td>7.8</td>\n",
       "      <td>0.88</td>\n",
       "      <td>0.00</td>\n",
       "      <td>2.6</td>\n",
       "      <td>0.098</td>\n",
       "      <td>25.0</td>\n",
       "      <td>67.0</td>\n",
       "      <td>0.9968</td>\n",
       "      <td>3.20</td>\n",
       "      <td>0.68</td>\n",
       "      <td>9.8</td>\n",
       "      <td>5</td>\n",
       "      <td>1</td>\n",
       "    </tr>\n",
       "    <tr>\n",
       "      <th>2</th>\n",
       "      <td>7.8</td>\n",
       "      <td>0.76</td>\n",
       "      <td>0.04</td>\n",
       "      <td>2.3</td>\n",
       "      <td>0.092</td>\n",
       "      <td>15.0</td>\n",
       "      <td>54.0</td>\n",
       "      <td>0.9970</td>\n",
       "      <td>3.26</td>\n",
       "      <td>0.65</td>\n",
       "      <td>9.8</td>\n",
       "      <td>5</td>\n",
       "      <td>2</td>\n",
       "    </tr>\n",
       "    <tr>\n",
       "      <th>3</th>\n",
       "      <td>11.2</td>\n",
       "      <td>0.28</td>\n",
       "      <td>0.56</td>\n",
       "      <td>1.9</td>\n",
       "      <td>0.075</td>\n",
       "      <td>17.0</td>\n",
       "      <td>60.0</td>\n",
       "      <td>0.9980</td>\n",
       "      <td>3.16</td>\n",
       "      <td>0.58</td>\n",
       "      <td>9.8</td>\n",
       "      <td>6</td>\n",
       "      <td>3</td>\n",
       "    </tr>\n",
       "    <tr>\n",
       "      <th>4</th>\n",
       "      <td>7.4</td>\n",
       "      <td>0.70</td>\n",
       "      <td>0.00</td>\n",
       "      <td>1.9</td>\n",
       "      <td>0.076</td>\n",
       "      <td>11.0</td>\n",
       "      <td>34.0</td>\n",
       "      <td>0.9978</td>\n",
       "      <td>3.51</td>\n",
       "      <td>0.56</td>\n",
       "      <td>9.4</td>\n",
       "      <td>5</td>\n",
       "      <td>4</td>\n",
       "    </tr>\n",
       "  </tbody>\n",
       "</table>\n",
       "</div>"
      ],
      "text/plain": [
       "   fixed acidity  volatile acidity  citric acid  residual sugar  chlorides   \n",
       "0            7.4              0.70         0.00             1.9      0.076  \\\n",
       "1            7.8              0.88         0.00             2.6      0.098   \n",
       "2            7.8              0.76         0.04             2.3      0.092   \n",
       "3           11.2              0.28         0.56             1.9      0.075   \n",
       "4            7.4              0.70         0.00             1.9      0.076   \n",
       "\n",
       "   free sulfur dioxide  total sulfur dioxide  density    pH  sulphates   \n",
       "0                 11.0                  34.0   0.9978  3.51       0.56  \\\n",
       "1                 25.0                  67.0   0.9968  3.20       0.68   \n",
       "2                 15.0                  54.0   0.9970  3.26       0.65   \n",
       "3                 17.0                  60.0   0.9980  3.16       0.58   \n",
       "4                 11.0                  34.0   0.9978  3.51       0.56   \n",
       "\n",
       "   alcohol  quality  Id  \n",
       "0      9.4        5   0  \n",
       "1      9.8        5   1  \n",
       "2      9.8        5   2  \n",
       "3      9.8        6   3  \n",
       "4      9.4        5   4  "
      ]
     },
     "execution_count": 39,
     "metadata": {},
     "output_type": "execute_result"
    }
   ],
   "source": [
    "df.head()"
   ]
  },
  {
   "cell_type": "code",
   "execution_count": 40,
   "id": "a18cc7fb",
   "metadata": {},
   "outputs": [
    {
     "name": "stdout",
     "output_type": "stream",
     "text": [
      "[6]\n"
     ]
    }
   ],
   "source": [
    "input_data = (7.4,0.70,0.00,1.9,0.076,11.0,34.0,0.9978,3.51,0.56)\n",
    "input_data_as_numpy_array = np.array(input_data)\n",
    "input_data_reshaped = input_data_as_numpy_array.reshape(1,-1)\n",
    "prediction = dt.predict(input_data_reshaped)\n",
    "print(prediction)"
   ]
  },
  {
   "cell_type": "markdown",
   "id": "4e97ed06",
   "metadata": {},
   "source": [
    "### Random Forest Classifier"
   ]
  },
  {
   "cell_type": "code",
   "execution_count": 41,
   "id": "3877d429",
   "metadata": {},
   "outputs": [],
   "source": [
    "from sklearn.ensemble import RandomForestClassifier\n",
    "RFC = RandomForestClassifier(random_state = 1)\n",
    "RFC.fit(X_train,Y_train)\n",
    "\n",
    "RFC_train_pred = RFC.predict(X_train)\n",
    "RFC_test_pred = RFC.predict(X_test)"
   ]
  },
  {
   "cell_type": "code",
   "execution_count": 42,
   "id": "932f133b",
   "metadata": {},
   "outputs": [
    {
     "name": "stdout",
     "output_type": "stream",
     "text": [
      "Train Accuracy: 100.0\n"
     ]
    }
   ],
   "source": [
    "print(\"Train Accuracy:\" ,accuracy_score(Y_train,RFC_train_pred)*100)"
   ]
  },
  {
   "cell_type": "code",
   "execution_count": 43,
   "id": "d29805a8",
   "metadata": {},
   "outputs": [
    {
     "name": "stdout",
     "output_type": "stream",
     "text": [
      "Accuracy Score: 65.06550218340611\n"
     ]
    }
   ],
   "source": [
    "print(\"Accuracy Score:\" ,accuracy_score(Y_test,RFC_test_pred)*100)"
   ]
  },
  {
   "cell_type": "code",
   "execution_count": 44,
   "id": "1567368d",
   "metadata": {
    "scrolled": true
   },
   "outputs": [
    {
     "name": "stdout",
     "output_type": "stream",
     "text": [
      "[[ 0  3  2  0  0]\n",
      " [ 0 73 24  1  0]\n",
      " [ 0 29 62  3  0]\n",
      " [ 0  0 16 14  0]\n",
      " [ 0  0  1  1  0]]\n"
     ]
    }
   ],
   "source": [
    "print(confusion_matrix(Y_test, RFC_test_pred))"
   ]
  },
  {
   "cell_type": "code",
   "execution_count": 45,
   "id": "a9c36e8b",
   "metadata": {},
   "outputs": [
    {
     "name": "stdout",
     "output_type": "stream",
     "text": [
      "              precision    recall  f1-score   support\n",
      "\n",
      "           4     0.0000    0.0000    0.0000         5\n",
      "           5     0.6952    0.7449    0.7192        98\n",
      "           6     0.5905    0.6596    0.6231        94\n",
      "           7     0.7368    0.4667    0.5714        30\n",
      "           8     0.0000    0.0000    0.0000         2\n",
      "\n",
      "    accuracy                         0.6507       229\n",
      "   macro avg     0.4045    0.3742    0.3828       229\n",
      "weighted avg     0.6364    0.6507    0.6384       229\n",
      "\n"
     ]
    }
   ],
   "source": [
    "print(classification_report(Y_test, RFC_test_pred, digits=4))"
   ]
  },
  {
   "cell_type": "markdown",
   "id": "d0d37a61",
   "metadata": {},
   "source": [
    "### Precision of Random Forest Classifier"
   ]
  },
  {
   "cell_type": "code",
   "execution_count": 46,
   "id": "9ab0508c",
   "metadata": {},
   "outputs": [
    {
     "name": "stdout",
     "output_type": "stream",
     "text": [
      "precision Score of macro is: 40.45\n",
      "precision Score of micro is: 117.12\n",
      "precision Score of weighted is: 63.64\n"
     ]
    }
   ],
   "source": [
    "print(\"precision Score of macro is:\", round(precision_score(Y_test, RFC_test_pred, average='macro')*100,2)) \n",
    "print(\"precision Score of micro is:\", round(precision_score(Y_test,RFC_test_pred, average='micro')*180,2)) \n",
    "print(\"precision Score of weighted is:\", round(precision_score(Y_test, RFC_test_pred, average='weighted')*100,2))"
   ]
  },
  {
   "cell_type": "markdown",
   "id": "e2a54449",
   "metadata": {},
   "source": [
    "### Recall of Random Forest Classifier"
   ]
  },
  {
   "cell_type": "code",
   "execution_count": 47,
   "id": "300c4333",
   "metadata": {},
   "outputs": [
    {
     "name": "stdout",
     "output_type": "stream",
     "text": [
      "recall Score of macro is:  37.42\n",
      "recall Score of micro is:  65.07\n",
      "recall Score of weighted is: 65.07\n"
     ]
    }
   ],
   "source": [
    "print(\"recall Score of macro is: \", round(recall_score(Y_test,RFC_test_pred, average='macro')*100,2)) \n",
    "print(\"recall Score of micro is: \", round(recall_score(Y_test,RFC_test_pred, average='micro')*100,2)) \n",
    "print(\"recall Score of weighted is:\", round (recall_score(Y_test,RFC_test_pred, average='weighted')*100,2))"
   ]
  },
  {
   "cell_type": "markdown",
   "id": "3395ad21",
   "metadata": {},
   "source": [
    "### F1_Score of Random Forest Classifier"
   ]
  },
  {
   "cell_type": "code",
   "execution_count": 48,
   "id": "e6896d90",
   "metadata": {},
   "outputs": [
    {
     "name": "stdout",
     "output_type": "stream",
     "text": [
      "f1_score of macro : 38.28\n",
      "f1_score of micro: 117.12\n",
      "f1_score of weighted : 63.84\n"
     ]
    }
   ],
   "source": [
    "print('f1_score of macro :',round (f1_score (Y_test, RFC_test_pred, average='macro')*100,2))\n",
    "print('f1_score of micro:',round (f1_score (Y_test, RFC_test_pred, average='micro')*180,2)) \n",
    "print('f1_score of weighted :',round (f1_score (Y_test, RFC_test_pred, average='weighted')*100,2))"
   ]
  },
  {
   "cell_type": "markdown",
   "id": "68df1ef5",
   "metadata": {},
   "source": [
    "### Support Vector Classifier"
   ]
  },
  {
   "cell_type": "code",
   "execution_count": 49,
   "id": "7aeab8f7",
   "metadata": {},
   "outputs": [],
   "source": [
    "from sklearn.svm  import SVC"
   ]
  },
  {
   "cell_type": "code",
   "execution_count": 50,
   "id": "ebbc49d6",
   "metadata": {},
   "outputs": [
    {
     "data": {
      "text/html": [
       "<style>#sk-container-id-1 {color: black;background-color: white;}#sk-container-id-1 pre{padding: 0;}#sk-container-id-1 div.sk-toggleable {background-color: white;}#sk-container-id-1 label.sk-toggleable__label {cursor: pointer;display: block;width: 100%;margin-bottom: 0;padding: 0.3em;box-sizing: border-box;text-align: center;}#sk-container-id-1 label.sk-toggleable__label-arrow:before {content: \"▸\";float: left;margin-right: 0.25em;color: #696969;}#sk-container-id-1 label.sk-toggleable__label-arrow:hover:before {color: black;}#sk-container-id-1 div.sk-estimator:hover label.sk-toggleable__label-arrow:before {color: black;}#sk-container-id-1 div.sk-toggleable__content {max-height: 0;max-width: 0;overflow: hidden;text-align: left;background-color: #f0f8ff;}#sk-container-id-1 div.sk-toggleable__content pre {margin: 0.2em;color: black;border-radius: 0.25em;background-color: #f0f8ff;}#sk-container-id-1 input.sk-toggleable__control:checked~div.sk-toggleable__content {max-height: 200px;max-width: 100%;overflow: auto;}#sk-container-id-1 input.sk-toggleable__control:checked~label.sk-toggleable__label-arrow:before {content: \"▾\";}#sk-container-id-1 div.sk-estimator input.sk-toggleable__control:checked~label.sk-toggleable__label {background-color: #d4ebff;}#sk-container-id-1 div.sk-label input.sk-toggleable__control:checked~label.sk-toggleable__label {background-color: #d4ebff;}#sk-container-id-1 input.sk-hidden--visually {border: 0;clip: rect(1px 1px 1px 1px);clip: rect(1px, 1px, 1px, 1px);height: 1px;margin: -1px;overflow: hidden;padding: 0;position: absolute;width: 1px;}#sk-container-id-1 div.sk-estimator {font-family: monospace;background-color: #f0f8ff;border: 1px dotted black;border-radius: 0.25em;box-sizing: border-box;margin-bottom: 0.5em;}#sk-container-id-1 div.sk-estimator:hover {background-color: #d4ebff;}#sk-container-id-1 div.sk-parallel-item::after {content: \"\";width: 100%;border-bottom: 1px solid gray;flex-grow: 1;}#sk-container-id-1 div.sk-label:hover label.sk-toggleable__label {background-color: #d4ebff;}#sk-container-id-1 div.sk-serial::before {content: \"\";position: absolute;border-left: 1px solid gray;box-sizing: border-box;top: 0;bottom: 0;left: 50%;z-index: 0;}#sk-container-id-1 div.sk-serial {display: flex;flex-direction: column;align-items: center;background-color: white;padding-right: 0.2em;padding-left: 0.2em;position: relative;}#sk-container-id-1 div.sk-item {position: relative;z-index: 1;}#sk-container-id-1 div.sk-parallel {display: flex;align-items: stretch;justify-content: center;background-color: white;position: relative;}#sk-container-id-1 div.sk-item::before, #sk-container-id-1 div.sk-parallel-item::before {content: \"\";position: absolute;border-left: 1px solid gray;box-sizing: border-box;top: 0;bottom: 0;left: 50%;z-index: -1;}#sk-container-id-1 div.sk-parallel-item {display: flex;flex-direction: column;z-index: 1;position: relative;background-color: white;}#sk-container-id-1 div.sk-parallel-item:first-child::after {align-self: flex-end;width: 50%;}#sk-container-id-1 div.sk-parallel-item:last-child::after {align-self: flex-start;width: 50%;}#sk-container-id-1 div.sk-parallel-item:only-child::after {width: 0;}#sk-container-id-1 div.sk-dashed-wrapped {border: 1px dashed gray;margin: 0 0.4em 0.5em 0.4em;box-sizing: border-box;padding-bottom: 0.4em;background-color: white;}#sk-container-id-1 div.sk-label label {font-family: monospace;font-weight: bold;display: inline-block;line-height: 1.2em;}#sk-container-id-1 div.sk-label-container {text-align: center;}#sk-container-id-1 div.sk-container {/* jupyter's `normalize.less` sets `[hidden] { display: none; }` but bootstrap.min.css set `[hidden] { display: none !important; }` so we also need the `!important` here to be able to override the default hidden behavior on the sphinx rendered scikit-learn.org. See: https://github.com/scikit-learn/scikit-learn/issues/21755 */display: inline-block !important;position: relative;}#sk-container-id-1 div.sk-text-repr-fallback {display: none;}</style><div id=\"sk-container-id-1\" class=\"sk-top-container\"><div class=\"sk-text-repr-fallback\"><pre>SVC(probability=True)</pre><b>In a Jupyter environment, please rerun this cell to show the HTML representation or trust the notebook. <br />On GitHub, the HTML representation is unable to render, please try loading this page with nbviewer.org.</b></div><div class=\"sk-container\" hidden><div class=\"sk-item\"><div class=\"sk-estimator sk-toggleable\"><input class=\"sk-toggleable__control sk-hidden--visually\" id=\"sk-estimator-id-1\" type=\"checkbox\" checked><label for=\"sk-estimator-id-1\" class=\"sk-toggleable__label sk-toggleable__label-arrow\">SVC</label><div class=\"sk-toggleable__content\"><pre>SVC(probability=True)</pre></div></div></div></div></div>"
      ],
      "text/plain": [
       "SVC(probability=True)"
      ]
     },
     "execution_count": 50,
     "metadata": {},
     "output_type": "execute_result"
    }
   ],
   "source": [
    "svc = SVC(probability=True)\n",
    "svc.fit(X_train,Y_train)"
   ]
  },
  {
   "cell_type": "code",
   "execution_count": 51,
   "id": "036090d6",
   "metadata": {},
   "outputs": [],
   "source": [
    "svc_train_pred = svc.predict(X_train)\n",
    "svc_test_pred = svc.predict(X_test)"
   ]
  },
  {
   "cell_type": "code",
   "execution_count": 52,
   "id": "98b8ccfd",
   "metadata": {},
   "outputs": [
    {
     "name": "stdout",
     "output_type": "stream",
     "text": [
      "Train Accuracy: 47.81181619256017\n"
     ]
    }
   ],
   "source": [
    "print(\"Train Accuracy:\" ,accuracy_score(Y_train,svc_train_pred)*100)"
   ]
  },
  {
   "cell_type": "code",
   "execution_count": 53,
   "id": "7bceb7b5",
   "metadata": {},
   "outputs": [
    {
     "name": "stdout",
     "output_type": "stream",
     "text": [
      "Accuracy Score: 41.92139737991266\n"
     ]
    }
   ],
   "source": [
    "print(\"Accuracy Score:\" ,accuracy_score(Y_test,svc_test_pred)*100)"
   ]
  },
  {
   "cell_type": "code",
   "execution_count": 54,
   "id": "f5fb4a50",
   "metadata": {},
   "outputs": [
    {
     "name": "stdout",
     "output_type": "stream",
     "text": [
      "[[ 0  4  1  0  0]\n",
      " [ 0 54 44  0  0]\n",
      " [ 0 52 42  0  0]\n",
      " [ 0 12 18  0  0]\n",
      " [ 0  0  2  0  0]]\n"
     ]
    }
   ],
   "source": [
    "print(confusion_matrix(Y_test, svc_test_pred))"
   ]
  },
  {
   "cell_type": "code",
   "execution_count": 55,
   "id": "ace00dc1",
   "metadata": {},
   "outputs": [
    {
     "name": "stdout",
     "output_type": "stream",
     "text": [
      "              precision    recall  f1-score   support\n",
      "\n",
      "           4     0.0000    0.0000    0.0000         5\n",
      "           5     0.4426    0.5510    0.4909        98\n",
      "           6     0.3925    0.4468    0.4179        94\n",
      "           7     0.0000    0.0000    0.0000        30\n",
      "           8     0.0000    0.0000    0.0000         2\n",
      "\n",
      "    accuracy                         0.4192       229\n",
      "   macro avg     0.1670    0.1996    0.1818       229\n",
      "weighted avg     0.3505    0.4192    0.3816       229\n",
      "\n"
     ]
    }
   ],
   "source": [
    "print(classification_report(Y_test, svc_test_pred, digits=4))"
   ]
  },
  {
   "cell_type": "markdown",
   "id": "6998be97",
   "metadata": {},
   "source": [
    "### Precision of Support Vector Classifier"
   ]
  },
  {
   "cell_type": "code",
   "execution_count": 56,
   "id": "f5b2dd71",
   "metadata": {},
   "outputs": [
    {
     "name": "stdout",
     "output_type": "stream",
     "text": [
      "precision Score of macro is: 16.7\n",
      "precision Score of micro is: 75.46\n",
      "precision Score of weighted is: 35.05\n"
     ]
    }
   ],
   "source": [
    "print(\"precision Score of macro is:\", round(precision_score(Y_test, svc_test_pred, average='macro')*100,2)) \n",
    "print(\"precision Score of micro is:\", round(precision_score(Y_test,svc_test_pred, average='micro')*180,2)) \n",
    "print(\"precision Score of weighted is:\", round(precision_score(Y_test, svc_test_pred, average='weighted')*100,2))"
   ]
  },
  {
   "cell_type": "markdown",
   "id": "43976042",
   "metadata": {},
   "source": [
    "### Recall of Support Vector Classifier"
   ]
  },
  {
   "cell_type": "code",
   "execution_count": 57,
   "id": "24eb405c",
   "metadata": {},
   "outputs": [
    {
     "name": "stdout",
     "output_type": "stream",
     "text": [
      "recall Score of macro is:  19.96\n",
      "recall Score of micro is:  41.92\n",
      "recall Score of weighted is: 41.92\n"
     ]
    }
   ],
   "source": [
    "print(\"recall Score of macro is: \", round(recall_score(Y_test,svc_test_pred, average='macro')*100,2)) \n",
    "print(\"recall Score of micro is: \", round(recall_score(Y_test,svc_test_pred, average='micro')*100,2)) \n",
    "print(\"recall Score of weighted is:\", round (recall_score(Y_test,svc_test_pred, average='weighted')*100,2))"
   ]
  },
  {
   "cell_type": "markdown",
   "id": "16658a74",
   "metadata": {},
   "source": [
    "### F1_Score of Support Vector Classifier"
   ]
  },
  {
   "cell_type": "code",
   "execution_count": 58,
   "id": "1daf78e0",
   "metadata": {},
   "outputs": [
    {
     "name": "stdout",
     "output_type": "stream",
     "text": [
      "f1_score of macro : 18.18\n",
      "f1_score of micro: 75.46\n",
      "f1_score of weighted : 38.16\n"
     ]
    }
   ],
   "source": [
    "print('f1_score of macro :',round (f1_score (Y_test, svc_test_pred, average='macro')*100,2))\n",
    "print('f1_score of micro:',round (f1_score (Y_test, svc_test_pred, average='micro')*180,2)) \n",
    "print('f1_score of weighted :',round (f1_score (Y_test, svc_test_pred, average='weighted')*100,2))"
   ]
  },
  {
   "cell_type": "markdown",
   "id": "da393e38",
   "metadata": {},
   "source": [
    "### ..........END.........."
   ]
  }
 ],
 "metadata": {
  "kernelspec": {
   "display_name": "Python 3 (ipykernel)",
   "language": "python",
   "name": "python3"
  },
  "language_info": {
   "codemirror_mode": {
    "name": "ipython",
    "version": 3
   },
   "file_extension": ".py",
   "mimetype": "text/x-python",
   "name": "python",
   "nbconvert_exporter": "python",
   "pygments_lexer": "ipython3",
   "version": "3.10.11"
  }
 },
 "nbformat": 4,
 "nbformat_minor": 5
}
